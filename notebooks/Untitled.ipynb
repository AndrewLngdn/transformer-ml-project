{
 "cells": [
  {
   "cell_type": "code",
   "execution_count": null,
   "id": "d2b507ee-ba54-426a-abcc-52467b1ed143",
   "metadata": {},
   "outputs": [],
   "source": []
  }
 ],
 "metadata": {
  "kernelspec": {
   "display_name": "",
   "name": ""
  },
  "language_info": {
   "name": ""
  }
 },
 "nbformat": 4,
 "nbformat_minor": 5
}
