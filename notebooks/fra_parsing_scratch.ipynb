{
 "cells": [
  {
   "cell_type": "code",
   "execution_count": 1,
   "id": "0e3b17c7-7336-47d2-a4b1-cf57cbf41ff6",
   "metadata": {},
   "outputs": [],
   "source": [
    "import pandas as pd"
   ]
  },
  {
   "cell_type": "code",
   "execution_count": 44,
   "id": "72f72994-091f-488a-ae10-46a38b301c9a",
   "metadata": {},
   "outputs": [],
   "source": [
    "df = pd.read_csv(\"../data/fra.txt\", sep=\"\\t\", header=None)"
   ]
  },
  {
   "cell_type": "code",
   "execution_count": 45,
   "id": "780ba20d-fc32-44d5-a48c-d5d7b1d4a0a5",
   "metadata": {},
   "outputs": [],
   "source": [
    "df.drop(2, axis=1).to_csv(\"../data/fra_clean.txt\", index=False, header=False, sep=\"\\t\")"
   ]
  },
  {
   "cell_type": "code",
   "execution_count": 46,
   "id": "6c6dfe9f-d303-4bc4-a878-c891c344bd6e",
   "metadata": {},
   "outputs": [
    {
     "data": {
      "text/html": [
       "<div>\n",
       "<style scoped>\n",
       "    .dataframe tbody tr th:only-of-type {\n",
       "        vertical-align: middle;\n",
       "    }\n",
       "\n",
       "    .dataframe tbody tr th {\n",
       "        vertical-align: top;\n",
       "    }\n",
       "\n",
       "    .dataframe thead th {\n",
       "        text-align: right;\n",
       "    }\n",
       "</style>\n",
       "<table border=\"1\" class=\"dataframe\">\n",
       "  <thead>\n",
       "    <tr style=\"text-align: right;\">\n",
       "      <th></th>\n",
       "      <th>0</th>\n",
       "      <th>1</th>\n",
       "      <th>2</th>\n",
       "    </tr>\n",
       "  </thead>\n",
       "  <tbody>\n",
       "    <tr>\n",
       "      <th>0</th>\n",
       "      <td>Go.</td>\n",
       "      <td>Va !</td>\n",
       "      <td>CC-BY 2.0 (France) Attribution: tatoeba.org #2...</td>\n",
       "    </tr>\n",
       "    <tr>\n",
       "      <th>1</th>\n",
       "      <td>Go.</td>\n",
       "      <td>Marche.</td>\n",
       "      <td>CC-BY 2.0 (France) Attribution: tatoeba.org #2...</td>\n",
       "    </tr>\n",
       "    <tr>\n",
       "      <th>2</th>\n",
       "      <td>Go.</td>\n",
       "      <td>En route !</td>\n",
       "      <td>CC-BY 2.0 (France) Attribution: tatoeba.org #2...</td>\n",
       "    </tr>\n",
       "    <tr>\n",
       "      <th>3</th>\n",
       "      <td>Go.</td>\n",
       "      <td>Bouge !</td>\n",
       "      <td>CC-BY 2.0 (France) Attribution: tatoeba.org #2...</td>\n",
       "    </tr>\n",
       "    <tr>\n",
       "      <th>4</th>\n",
       "      <td>Hi.</td>\n",
       "      <td>Salut !</td>\n",
       "      <td>CC-BY 2.0 (France) Attribution: tatoeba.org #5...</td>\n",
       "    </tr>\n",
       "    <tr>\n",
       "      <th>...</th>\n",
       "      <td>...</td>\n",
       "      <td>...</td>\n",
       "      <td>...</td>\n",
       "    </tr>\n",
       "    <tr>\n",
       "      <th>237833</th>\n",
       "      <td>Death is something that we're often discourage...</td>\n",
       "      <td>La mort est une chose qu'on nous décourage sou...</td>\n",
       "      <td>CC-BY 2.0 (France) Attribution: tatoeba.org #1...</td>\n",
       "    </tr>\n",
       "    <tr>\n",
       "      <th>237834</th>\n",
       "      <td>Since there are usually multiple websites on a...</td>\n",
       "      <td>Puisqu'il y a de multiples sites web sur chaqu...</td>\n",
       "      <td>CC-BY 2.0 (France) Attribution: tatoeba.org #9...</td>\n",
       "    </tr>\n",
       "    <tr>\n",
       "      <th>237835</th>\n",
       "      <td>If someone who doesn't know your background sa...</td>\n",
       "      <td>Si quelqu'un qui ne connaît pas vos antécédent...</td>\n",
       "      <td>CC-BY 2.0 (France) Attribution: tatoeba.org #9...</td>\n",
       "    </tr>\n",
       "    <tr>\n",
       "      <th>237836</th>\n",
       "      <td>It may be impossible to get a completely error...</td>\n",
       "      <td>Il est peut-être impossible d'obtenir un Corpu...</td>\n",
       "      <td>CC-BY 2.0 (France) Attribution: tatoeba.org #2...</td>\n",
       "    </tr>\n",
       "    <tr>\n",
       "      <th>237837</th>\n",
       "      <td>I went drinking with one of my boyfriend's fri...</td>\n",
       "      <td>« Je suis allée boire avec un ami de mon compa...</td>\n",
       "      <td>CC-BY 2.0 (France) Attribution: tatoeba.org #9...</td>\n",
       "    </tr>\n",
       "  </tbody>\n",
       "</table>\n",
       "<p>237838 rows × 3 columns</p>\n",
       "</div>"
      ],
      "text/plain": [
       "                                                        0  \\\n",
       "0                                                     Go.   \n",
       "1                                                     Go.   \n",
       "2                                                     Go.   \n",
       "3                                                     Go.   \n",
       "4                                                     Hi.   \n",
       "...                                                   ...   \n",
       "237833  Death is something that we're often discourage...   \n",
       "237834  Since there are usually multiple websites on a...   \n",
       "237835  If someone who doesn't know your background sa...   \n",
       "237836  It may be impossible to get a completely error...   \n",
       "237837  I went drinking with one of my boyfriend's fri...   \n",
       "\n",
       "                                                        1  \\\n",
       "0                                                    Va !   \n",
       "1                                                 Marche.   \n",
       "2                                              En route !   \n",
       "3                                                 Bouge !   \n",
       "4                                                 Salut !   \n",
       "...                                                   ...   \n",
       "237833  La mort est une chose qu'on nous décourage sou...   \n",
       "237834  Puisqu'il y a de multiples sites web sur chaqu...   \n",
       "237835  Si quelqu'un qui ne connaît pas vos antécédent...   \n",
       "237836  Il est peut-être impossible d'obtenir un Corpu...   \n",
       "237837  « Je suis allée boire avec un ami de mon compa...   \n",
       "\n",
       "                                                        2  \n",
       "0       CC-BY 2.0 (France) Attribution: tatoeba.org #2...  \n",
       "1       CC-BY 2.0 (France) Attribution: tatoeba.org #2...  \n",
       "2       CC-BY 2.0 (France) Attribution: tatoeba.org #2...  \n",
       "3       CC-BY 2.0 (France) Attribution: tatoeba.org #2...  \n",
       "4       CC-BY 2.0 (France) Attribution: tatoeba.org #5...  \n",
       "...                                                   ...  \n",
       "237833  CC-BY 2.0 (France) Attribution: tatoeba.org #1...  \n",
       "237834  CC-BY 2.0 (France) Attribution: tatoeba.org #9...  \n",
       "237835  CC-BY 2.0 (France) Attribution: tatoeba.org #9...  \n",
       "237836  CC-BY 2.0 (France) Attribution: tatoeba.org #2...  \n",
       "237837  CC-BY 2.0 (France) Attribution: tatoeba.org #9...  \n",
       "\n",
       "[237838 rows x 3 columns]"
      ]
     },
     "execution_count": 46,
     "metadata": {},
     "output_type": "execute_result"
    }
   ],
   "source": [
    "df"
   ]
  },
  {
   "cell_type": "code",
   "execution_count": 48,
   "id": "223b6db4-84c5-4fa3-9031-897f0ed3adda",
   "metadata": {},
   "outputs": [
    {
     "data": {
      "text/html": [
       "<div>\n",
       "<style scoped>\n",
       "    .dataframe tbody tr th:only-of-type {\n",
       "        vertical-align: middle;\n",
       "    }\n",
       "\n",
       "    .dataframe tbody tr th {\n",
       "        vertical-align: top;\n",
       "    }\n",
       "\n",
       "    .dataframe thead th {\n",
       "        text-align: right;\n",
       "    }\n",
       "</style>\n",
       "<table border=\"1\" class=\"dataframe\">\n",
       "  <thead>\n",
       "    <tr style=\"text-align: right;\">\n",
       "      <th></th>\n",
       "      <th>0</th>\n",
       "      <th>1</th>\n",
       "    </tr>\n",
       "  </thead>\n",
       "  <tbody>\n",
       "    <tr>\n",
       "      <th>0</th>\n",
       "      <td>Go.</td>\n",
       "      <td>Va !</td>\n",
       "    </tr>\n",
       "    <tr>\n",
       "      <th>1</th>\n",
       "      <td>Go.</td>\n",
       "      <td>Marche.</td>\n",
       "    </tr>\n",
       "    <tr>\n",
       "      <th>2</th>\n",
       "      <td>Go.</td>\n",
       "      <td>En route !</td>\n",
       "    </tr>\n",
       "    <tr>\n",
       "      <th>3</th>\n",
       "      <td>Go.</td>\n",
       "      <td>Bouge !</td>\n",
       "    </tr>\n",
       "    <tr>\n",
       "      <th>4</th>\n",
       "      <td>Hi.</td>\n",
       "      <td>Salut !</td>\n",
       "    </tr>\n",
       "    <tr>\n",
       "      <th>...</th>\n",
       "      <td>...</td>\n",
       "      <td>...</td>\n",
       "    </tr>\n",
       "    <tr>\n",
       "      <th>237833</th>\n",
       "      <td>Death is something that we're often discourage...</td>\n",
       "      <td>La mort est une chose qu'on nous décourage sou...</td>\n",
       "    </tr>\n",
       "    <tr>\n",
       "      <th>237834</th>\n",
       "      <td>Since there are usually multiple websites on a...</td>\n",
       "      <td>Puisqu'il y a de multiples sites web sur chaqu...</td>\n",
       "    </tr>\n",
       "    <tr>\n",
       "      <th>237835</th>\n",
       "      <td>If someone who doesn't know your background sa...</td>\n",
       "      <td>Si quelqu'un qui ne connaît pas vos antécédent...</td>\n",
       "    </tr>\n",
       "    <tr>\n",
       "      <th>237836</th>\n",
       "      <td>It may be impossible to get a completely error...</td>\n",
       "      <td>Il est peut-être impossible d'obtenir un Corpu...</td>\n",
       "    </tr>\n",
       "    <tr>\n",
       "      <th>237837</th>\n",
       "      <td>I went drinking with one of my boyfriend's fri...</td>\n",
       "      <td>« Je suis allée boire avec un ami de mon compa...</td>\n",
       "    </tr>\n",
       "  </tbody>\n",
       "</table>\n",
       "<p>237838 rows × 2 columns</p>\n",
       "</div>"
      ],
      "text/plain": [
       "                                                        0  \\\n",
       "0                                                     Go.   \n",
       "1                                                     Go.   \n",
       "2                                                     Go.   \n",
       "3                                                     Go.   \n",
       "4                                                     Hi.   \n",
       "...                                                   ...   \n",
       "237833  Death is something that we're often discourage...   \n",
       "237834  Since there are usually multiple websites on a...   \n",
       "237835  If someone who doesn't know your background sa...   \n",
       "237836  It may be impossible to get a completely error...   \n",
       "237837  I went drinking with one of my boyfriend's fri...   \n",
       "\n",
       "                                                        1  \n",
       "0                                                    Va !  \n",
       "1                                                 Marche.  \n",
       "2                                              En route !  \n",
       "3                                                 Bouge !  \n",
       "4                                                 Salut !  \n",
       "...                                                   ...  \n",
       "237833  La mort est une chose qu'on nous décourage sou...  \n",
       "237834  Puisqu'il y a de multiples sites web sur chaqu...  \n",
       "237835  Si quelqu'un qui ne connaît pas vos antécédent...  \n",
       "237836  Il est peut-être impossible d'obtenir un Corpu...  \n",
       "237837  « Je suis allée boire avec un ami de mon compa...  \n",
       "\n",
       "[237838 rows x 2 columns]"
      ]
     },
     "execution_count": 48,
     "metadata": {},
     "output_type": "execute_result"
    }
   ],
   "source": [
    "pd.read_csv(\"../data/fra_clean.txt\", header=None, sep=\"\\t\")"
   ]
  },
  {
   "cell_type": "code",
   "execution_count": 49,
   "id": "4db10049-e535-4339-ae93-252d41540a4c",
   "metadata": {},
   "outputs": [],
   "source": [
    "def _preprocess(text):\n",
    "    # Replace non-breaking space with space\n",
    "    text = text.replace('\\u202f', ' ').replace('\\xa0', ' ')\n",
    "    # Insert space between words and punctuation marks\n",
    "    no_space = lambda char, prev_char: char in ',.!?' and prev_char != ' '\n",
    "    out = [' ' + char if i > 0 and no_space(char, text[i - 1]) else char\n",
    "           for i, char in enumerate(text.lower())]\n",
    "    return ''.join(out)"
   ]
  },
  {
   "cell_type": "code",
   "execution_count": 50,
   "id": "2f0ea86d-e1b7-4067-bba7-2f3583709204",
   "metadata": {},
   "outputs": [],
   "source": [
    "from data_importer import read_txt"
   ]
  },
  {
   "cell_type": "code",
   "execution_count": 51,
   "id": "d9e2e69e-5a1a-46a9-b4cb-4425f47e33ca",
   "metadata": {},
   "outputs": [],
   "source": [
    "fra_raw_text = read_txt(\"../data/fra_clean.txt\")"
   ]
  },
  {
   "cell_type": "code",
   "execution_count": 52,
   "id": "a30ad634-ae81-4cb3-943a-8fdcc92b6b7c",
   "metadata": {},
   "outputs": [],
   "source": [
    "text = _preprocess(fra_raw_text)"
   ]
  },
  {
   "cell_type": "code",
   "execution_count": 53,
   "id": "5ff963fd-5716-42a9-9b4c-a5984c1f1dbd",
   "metadata": {},
   "outputs": [
    {
     "data": {
      "text/plain": [
       "'go .\\tva !\\ngo .\\tmarche .\\ngo .\\ten route !\\ngo .\\tbouge !\\nhi .\\tsalut !\\nhi .\\tsalut .\\nrun !\\tcours !\\nrun !\\tcourez !\\nrun !\\tprenez vos jambes à vos cous !\\nrun !\\tfile !\\nrun !\\tfilez !\\nrun !\\tcours !\\nrun !\\tfuyez !\\n'"
      ]
     },
     "execution_count": 53,
     "metadata": {},
     "output_type": "execute_result"
    }
   ],
   "source": [
    "text[:200]"
   ]
  },
  {
   "cell_type": "code",
   "execution_count": 54,
   "id": "98501b41-1eae-4eb9-a71d-d775a5fdbae9",
   "metadata": {},
   "outputs": [],
   "source": [
    "def _tokenize(text, max_examples=None):\n",
    "    src, tgt = [], []\n",
    "    for i, line in enumerate(text.split('\\n')):\n",
    "        if max_examples and i > max_examples: break\n",
    "        parts = line.split('\\t')\n",
    "        if len(parts) == 2:\n",
    "            # Skip empty tokens\n",
    "            src.append([t for t in f'{parts[0]} <eos>'.split(' ') if t])\n",
    "            tgt.append([t for t in f'{parts[1]} <eos>'.split(' ') if t])\n",
    "    return src, tgt\n",
    "\n",
    "src, tgt = _tokenize(text)"
   ]
  },
  {
   "cell_type": "code",
   "execution_count": 56,
   "id": "62980e11-c9b5-4e42-b10a-16cb992f9c84",
   "metadata": {},
   "outputs": [
    {
     "data": {
      "text/plain": [
       "([['go', '.', '<eos>'],\n",
       "  ['go', '.', '<eos>'],\n",
       "  ['go', '.', '<eos>'],\n",
       "  ['go', '.', '<eos>'],\n",
       "  ['hi', '.', '<eos>'],\n",
       "  ['hi', '.', '<eos>']],\n",
       " [['va', '!', '<eos>'],\n",
       "  ['marche', '.', '<eos>'],\n",
       "  ['en', 'route', '!', '<eos>'],\n",
       "  ['bouge', '!', '<eos>'],\n",
       "  ['salut', '!', '<eos>'],\n",
       "  ['salut', '.', '<eos>']])"
      ]
     },
     "execution_count": 56,
     "metadata": {},
     "output_type": "execute_result"
    }
   ],
   "source": [
    "src[:6], tgt[:6]\n"
   ]
  },
  {
   "cell_type": "code",
   "execution_count": null,
   "id": "8b3803c9-18fa-4971-a37d-fbd5254ed16b",
   "metadata": {},
   "outputs": [],
   "source": []
  }
 ],
 "metadata": {
  "kernelspec": {
   "display_name": "Python 3 (ipykernel)",
   "language": "python",
   "name": "python3"
  },
  "language_info": {
   "codemirror_mode": {
    "name": "ipython",
    "version": 3
   },
   "file_extension": ".py",
   "mimetype": "text/x-python",
   "name": "python",
   "nbconvert_exporter": "python",
   "pygments_lexer": "ipython3",
   "version": "3.12.0"
  }
 },
 "nbformat": 4,
 "nbformat_minor": 5
}
