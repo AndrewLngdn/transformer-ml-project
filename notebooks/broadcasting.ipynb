{
 "cells": [
  {
   "cell_type": "code",
   "execution_count": 1,
   "id": "d2d10246-ee6d-4498-89bf-ca683ac6ceab",
   "metadata": {},
   "outputs": [],
   "source": [
    "import torch"
   ]
  },
  {
   "cell_type": "code",
   "execution_count": 47,
   "id": "adfaa206-ed9c-4840-8fde-0d27343e91d1",
   "metadata": {},
   "outputs": [],
   "source": [
    "B, Q, K, H = 2, 2, 3, 5\n",
    "\n",
    "queries = torch.arange(B * Q * H).reshape((B, Q, H))\n",
    "keys = torch.arange(B * K * H).reshape((B, K, H)) / 2\n",
    "\n",
    "\n",
    "\n",
    "# queries = queries.unsqueeze(2)"
   ]
  },
  {
   "cell_type": "code",
   "execution_count": 30,
   "id": "253c98f0-e7af-4a30-adad-af6c1ec47d09",
   "metadata": {},
   "outputs": [
    {
     "name": "stdout",
     "output_type": "stream",
     "text": [
      "queries=tensor([[[0, 1],\n",
      "         [2, 3]],\n",
      "\n",
      "        [[4, 5],\n",
      "         [6, 7]]])\n",
      "queries.shape=torch.Size([2, 2, 2])\n"
     ]
    }
   ],
   "source": [
    "print(f\"{queries=}\")\n",
    "# print(f\"{keys=}\")\n",
    "\n",
    "\n",
    "print(f\"{queries.shape=}\")\n",
    "# print(f\"{keys.shape=}\")"
   ]
  },
  {
   "cell_type": "code",
   "execution_count": 32,
   "id": "4908a914-cd1f-4073-9b8c-07a06b07aa7f",
   "metadata": {},
   "outputs": [],
   "source": [
    "import torch\n",
    "\n",
    "a = torch.tensor([[1.],\n",
    "                  [2.],\n",
    "                  [3.]])   # shape (3,1)\n",
    "\n",
    "b = torch.tensor([10,20,30])   # shape (3,)\n",
    "\n",
    "# both will expand to 3, 3. the length of rows in A will repeat 3 times\n",
    "# the rows of B will expand 3 times\n",
    "\n",
    "# QUESTION: Without changing shapes manually (no expand, no repeat),\n",
    "# what is (a + b).shape ?\n",
    "# and what does the actual tensor look like?"
   ]
  },
  {
   "cell_type": "code",
   "execution_count": 34,
   "id": "10a8b2c1-227e-428d-9d46-f33828e13811",
   "metadata": {},
   "outputs": [
    {
     "data": {
      "text/plain": [
       "tensor([[ 0.,  1.,  2.,  3.],\n",
       "        [ 4.,  5.,  6.,  7.],\n",
       "        [ 8.,  9., 10., 11.]])"
      ]
     },
     "execution_count": 34,
     "metadata": {},
     "output_type": "execute_result"
    }
   ],
   "source": [
    "X = torch.arange(12.).reshape(3,4) *  # shape (3,4)\n",
    "X"
   ]
  },
  {
   "cell_type": "code",
   "execution_count": 35,
   "id": "f93ef126-8c35-49e1-9196-4e45d9afe087",
   "metadata": {},
   "outputs": [
    {
     "data": {
      "text/plain": [
       "tensor([1., 2., 3., 4.])"
      ]
     },
     "execution_count": 35,
     "metadata": {},
     "output_type": "execute_result"
    }
   ],
   "source": [
    "bias = torch.tensor([1., 2., 3., 4.])  \n",
    "bias"
   ]
  },
  {
   "cell_type": "code",
   "execution_count": 36,
   "id": "85bcdc6e-12b1-4923-ab6a-49d47b5c472b",
   "metadata": {},
   "outputs": [
    {
     "data": {
      "text/plain": [
       "tensor([[ 1.,  3.,  5.,  7.],\n",
       "        [ 5.,  7.,  9., 11.],\n",
       "        [ 9., 11., 13., 15.]])"
      ]
     },
     "execution_count": 36,
     "metadata": {},
     "output_type": "execute_result"
    }
   ],
   "source": [
    "X + bias"
   ]
  },
  {
   "cell_type": "code",
   "execution_count": 40,
   "id": "cd7b242a-a8d1-4aaa-a5ef-9e9a515569ab",
   "metadata": {},
   "outputs": [
    {
     "data": {
      "text/plain": [
       "tensor([[1.],\n",
       "        [2.],\n",
       "        [3.]])"
      ]
     },
     "execution_count": 40,
     "metadata": {},
     "output_type": "execute_result"
    }
   ],
   "source": [
    "p = torch.tensor([1., 2., 3.])   # shape (3,)\n",
    "q = torch.tensor([10., 20.])     # shape (2,)\n",
    "\n",
    "# QUESTION: Use broadcasting to create a (3,2) matrix\n",
    "# where entry (i,j) = p[i] + q[j].\n",
    "# (hint: p[:, None] + q[None, :])\n",
    "\n",
    "q[None, ...]\n",
    "p[..., None]"
   ]
  },
  {
   "cell_type": "code",
   "execution_count": 66,
   "id": "5aba32f2-3ae6-48c9-aa95-b51e788b3add",
   "metadata": {},
   "outputs": [
    {
     "data": {
      "text/plain": [
       "tensor([[-0.3840, -1.5007, -0.6471,  0.5240,  0.4686],\n",
       "        [ 0.1221,  0.1029,  0.4387, -1.0729,  0.8491]])"
      ]
     },
     "metadata": {},
     "output_type": "display_data"
    },
    {
     "name": "stdout",
     "output_type": "stream",
     "text": [
      "\n"
     ]
    },
    {
     "data": {
      "text/plain": [
       "tensor([[ 1.6653,  0.0642, -0.6836,  1.9718,  0.0278],\n",
       "        [-0.2448, -1.3074,  0.5601, -1.6706, -0.5161],\n",
       "        [-0.0216,  0.0755,  2.5258,  0.7418, -0.2321]])"
      ]
     },
     "metadata": {},
     "output_type": "display_data"
    },
    {
     "name": "stdout",
     "output_type": "stream",
     "text": [
      "queries_expanded=tensor([[[-0.3840, -1.5007, -0.6471,  0.5240,  0.4686],\n",
      "         [-0.3840, -1.5007, -0.6471,  0.5240,  0.4686],\n",
      "         [-0.3840, -1.5007, -0.6471,  0.5240,  0.4686]],\n",
      "\n",
      "        [[ 0.1221,  0.1029,  0.4387, -1.0729,  0.8491],\n",
      "         [ 0.1221,  0.1029,  0.4387, -1.0729,  0.8491],\n",
      "         [ 0.1221,  0.1029,  0.4387, -1.0729,  0.8491]]])\n",
      "keys_expanded=tensor([[[ 1.6653,  0.0642, -0.6836,  1.9718,  0.0278],\n",
      "         [-0.2448, -1.3074,  0.5601, -1.6706, -0.5161],\n",
      "         [-0.0216,  0.0755,  2.5258,  0.7418, -0.2321]],\n",
      "\n",
      "        [[ 1.6653,  0.0642, -0.6836,  1.9718,  0.0278],\n",
      "         [-0.2448, -1.3074,  0.5601, -1.6706, -0.5161],\n",
      "         [-0.0216,  0.0755,  2.5258,  0.7418, -0.2321]]])\n",
      "tensor([[[ 1.2813, -1.4365, -1.3306,  2.4958,  0.4964],\n",
      "         [-0.6288, -2.8081, -0.0870, -1.1466, -0.0475],\n",
      "         [-0.4056, -1.4252,  1.8787,  1.2658,  0.2365]],\n",
      "\n",
      "        [[ 1.7874,  0.1671, -0.2448,  0.8989,  0.8770],\n",
      "         [-0.1227, -1.2045,  0.9988, -2.7435,  0.3330],\n",
      "         [ 0.1005,  0.1784,  2.9645, -0.3311,  0.6170]]])\n",
      "tensor([[[ 1.2813, -1.4365, -1.3306,  2.4958,  0.4964],\n",
      "         [-0.6288, -2.8081, -0.0870, -1.1466, -0.0475],\n",
      "         [-0.4056, -1.4252,  1.8787,  1.2658,  0.2365]],\n",
      "\n",
      "        [[ 1.7874,  0.1671, -0.2448,  0.8989,  0.8770],\n",
      "         [-0.1227, -1.2045,  0.9988, -2.7435,  0.3330],\n",
      "         [ 0.1005,  0.1784,  2.9645, -0.3311,  0.6170]]])\n"
     ]
    }
   ],
   "source": [
    "queries = torch.randn((Q, H))\n",
    "display(queries)\n",
    "print()\n",
    "keys = torch.randn((K, H))\n",
    "display(keys)\n",
    "\n",
    "queries = queries.unsqueeze(1)\n",
    "queries_expanded = queries.repeat((1, K, 1))\n",
    "print(f\"{queries_expanded=}\")\n",
    "\n",
    "# both will become 3, 2, 5, query, key, hdim.\n",
    "# for each query, we will add three keys\n",
    "# \n",
    "keys = keys.unsqueeze(0) \n",
    "keys_expanded = keys.repeat((Q, 1, 1))\n",
    "print(f\"{keys_expanded=}\")\n",
    "\n",
    "print(keys_expanded + queries_expanded)\n",
    "\n",
    "print(keys + queries)\n"
   ]
  },
  {
   "cell_type": "code",
   "execution_count": null,
   "id": "807710cc-f375-4374-bf42-b0f3b3610af2",
   "metadata": {},
   "outputs": [],
   "source": []
  }
 ],
 "metadata": {
  "kernelspec": {
   "display_name": "Python 3 (ipykernel)",
   "language": "python",
   "name": "python3"
  },
  "language_info": {
   "codemirror_mode": {
    "name": "ipython",
    "version": 3
   },
   "file_extension": ".py",
   "mimetype": "text/x-python",
   "name": "python",
   "nbconvert_exporter": "python",
   "pygments_lexer": "ipython3",
   "version": "3.12.0"
  }
 },
 "nbformat": 4,
 "nbformat_minor": 5
}
